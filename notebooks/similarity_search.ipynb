{
 "cells": [
  {
   "cell_type": "code",
   "execution_count": null,
   "id": "2",
   "metadata": {},
   "outputs": [],
   "source": [
    "import geemap\n",
    "import leafmap.maplibregl as leafmap\n",
    "\n",
    "geemap.ee_initialize()\n",
    "\n",
    "m = leafmap.Map(\n",
    "    projection=\"globe\", sidebar_visible=True, center=[-100, 40], zoom=2, height=\"800px\"\n",
    ")\n",
    "google_hybrid = \"https://mt1.google.com/vt/lyrs=y&hl=en&x={x}&y={y}&z={z}\"\n",
    "m.add_tile_layer(google_hybrid, name=\"Google Hybrid\", attribution=\"Google\")\n",
    "layer_name = \"NWI Wetlands\"\n",
    "m.add_nwi_basemap(name=layer_name, opacity=0.5)\n",
    "m.add_similarity_search(\n",
    "    before_id=layer_name,\n",
    "    default_year=2024,\n",
    "    default_color=\"#0000ff\",\n",
    "    default_threshold=0.8,\n",
    ")\n",
    "m.add_draw_control(controls=[\"point\", \"trash\"])\n",
    "m"
   ]
  }
 ],
 "metadata": {
  "kernelspec": {
   "display_name": "geo",
   "language": "python",
   "name": "python3"
  },
  "language_info": {
   "codemirror_mode": {
    "name": "ipython",
    "version": 3
   },
   "file_extension": ".py",
   "mimetype": "text/x-python",
   "name": "python",
   "nbconvert_exporter": "python",
   "pygments_lexer": "ipython3",
   "version": "3.12.2"
  }
 },
 "nbformat": 4,
 "nbformat_minor": 5
}
